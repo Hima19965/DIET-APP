{
  "nbformat": 4,
  "nbformat_minor": 0,
  "metadata": {
    "colab": {
      "provenance": [],
      "authorship_tag": "ABX9TyMVjk233uEKOqAh06yxecFL",
      "include_colab_link": true
    },
    "kernelspec": {
      "name": "python3",
      "display_name": "Python 3"
    },
    "language_info": {
      "name": "python"
    }
  },
  "cells": [
    {
      "cell_type": "markdown",
      "metadata": {
        "id": "view-in-github",
        "colab_type": "text"
      },
      "source": [
        "<a href=\"https://colab.research.google.com/github/Hima19965/DIET-APP/blob/main/dictionary_py.ipynb\" target=\"_parent\"><img src=\"https://colab.research.google.com/assets/colab-badge.svg\" alt=\"Open In Colab\"/></a>"
      ]
    },
    {
      "cell_type": "code",
      "execution_count": null,
      "metadata": {
        "colab": {
          "base_uri": "https://localhost:8080/"
        },
        "id": "RqnRfQ0Iyt3P",
        "outputId": "0a74ff54-9abc-4e04-ad4e-120d51d12907"
      },
      "outputs": [
        {
          "output_type": "stream",
          "name": "stdout",
          "text": [
            "10\n",
            "[20, 30]\n",
            "40\n"
          ]
        }
      ],
      "source": [
        "'Create a dictionary from two lists'\n",
        "# k= ['id', 'name', 'age']\n",
        "# v= [101, 'John', 25]\n",
        "# res=dict(zip(k,v))\n",
        "# print(res)\n",
        "'Create a dictionary to store student name and age'\n",
        "res1=[{'name':'sai','age':19},\n",
        "      {'name':'hima','age':20},\n",
        "      {'name':'siri','age':21},\n",
        "      {'name':'pranu','age':22},\n",
        "     {'name':'Lohi','age':23}]\n",
        "print(res1)\n",
        "\n",
        "'Create an empty dictionary and add key-value pairs one by one.'\n",
        "res2=dict()\n",
        "res2[\"Name\"]=input(\"Enter your name : \")\n",
        "res2[\"id\"]=int(input(\"Enter your id : \"))\n",
        "res2[\"age\"]=int(input(\"Enter your age : \"))\n",
        "print(res2)\n",
        "\n",
        "'Get the value of key \"salary\" from this dictionary'\n",
        "dict=[{'name':'sai','pin':54,'city':'hyd','salary':40000},\n",
        "     {'name':'hima','pin':53,'city':'vij','salary':42000},\n",
        "     {'name':'siri','pin':55,'city':'vuyr','salary':43000}]\n",
        "print(dict[0][\"salary\"])\n",
        "print(dict[1][\"salary\"])\n",
        "print(dict[2][\"salary\"])\n",
        "\n",
        "'Remove the last inserted key-value pair from the dictionary using an appropriate method'\n",
        "res3=[{'name':'sai','pin':'54','city':'hyd'},\n",
        "      {'name':'hima','pin':'53','city':'vij'},\n",
        "      {'name':'siri','pin':'55','city':'vuyr'}]\n",
        "for item in res3:\n",
        "    item.pop('city')\n",
        "print(res3)\n",
        "\n",
        "'Packing: packing refers to collecting multiple values into a single compound data structure, typically a tuple, list, or dictionary'\n",
        "packed = 1, 2, 3\n",
        "print(packed)\n",
        "\n",
        "'Unpacking: it extracts values from a collection (like a list, tuple, or dictionary) and assigns them to variables.'\n",
        "j=[10,20,30,40]\n",
        "a,*b,c=j\n",
        "print(a)\n",
        "print(b)\n",
        "print(c)"
      ]
    }
  ]
}